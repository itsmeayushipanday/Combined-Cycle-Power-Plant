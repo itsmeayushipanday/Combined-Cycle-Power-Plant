{
  "nbformat": 4,
  "nbformat_minor": 0,
  "metadata": {
    "colab": {
      "provenance": [],
      "authorship_tag": "ABX9TyNrF0/0pqTYUh5AKnfTTOz9",
      "include_colab_link": true
    },
    "kernelspec": {
      "name": "python3",
      "display_name": "Python 3"
    },
    "language_info": {
      "name": "python"
    }
  },
  "cells": [
    {
      "cell_type": "markdown",
      "metadata": {
        "id": "view-in-github",
        "colab_type": "text"
      },
      "source": [
        "<a href=\"https://colab.research.google.com/github/itsmeayushipanday/Combined-Cycle-Power-Plant/blob/main/Combined_Cycle_Power_Plant.ipynb\" target=\"_parent\"><img src=\"https://colab.research.google.com/assets/colab-badge.svg\" alt=\"Open In Colab\"/></a>"
      ]
    },
    {
      "cell_type": "code",
      "execution_count": 1,
      "metadata": {
        "id": "7RU71DKASzUR"
      },
      "outputs": [],
      "source": [
        "import numpy as np\n",
        "import pandas as pd\n",
        "import tensorflow as tf"
      ]
    },
    {
      "cell_type": "code",
      "source": [
        "tf.__version__"
      ],
      "metadata": {
        "colab": {
          "base_uri": "https://localhost:8080/",
          "height": 35
        },
        "id": "c2jw3KZcTCuy",
        "outputId": "0c8f06a9-331d-4af9-877d-3838ea302958"
      },
      "execution_count": 2,
      "outputs": [
        {
          "output_type": "execute_result",
          "data": {
            "text/plain": [
              "'2.12.0'"
            ],
            "application/vnd.google.colaboratory.intrinsic+json": {
              "type": "string"
            }
          },
          "metadata": {},
          "execution_count": 2
        }
      ]
    },
    {
      "cell_type": "markdown",
      "source": [
        "IMPORTING DATASET"
      ],
      "metadata": {
        "id": "zA9h7ks9TZPY"
      }
    },
    {
      "cell_type": "code",
      "source": [
        "dataset = pd.read_excel(\"Folds5x2_pp.xlsx\")"
      ],
      "metadata": {
        "id": "Xx9D0AdSTa3T"
      },
      "execution_count": 3,
      "outputs": []
    },
    {
      "cell_type": "code",
      "source": [
        "X = dataset.iloc[:,:-1].values\n",
        "y = dataset.iloc[:,-1].values"
      ],
      "metadata": {
        "id": "tOgO6QFKToIs"
      },
      "execution_count": 4,
      "outputs": []
    },
    {
      "cell_type": "code",
      "source": [
        "print(X)"
      ],
      "metadata": {
        "colab": {
          "base_uri": "https://localhost:8080/"
        },
        "id": "9nIysp-sT06q",
        "outputId": "7600b6f7-905b-4be0-8a5a-0dccc9158cc9"
      },
      "execution_count": 5,
      "outputs": [
        {
          "output_type": "stream",
          "name": "stdout",
          "text": [
            "[[  14.96   41.76 1024.07   73.17]\n",
            " [  25.18   62.96 1020.04   59.08]\n",
            " [   5.11   39.4  1012.16   92.14]\n",
            " ...\n",
            " [  31.32   74.33 1012.92   36.48]\n",
            " [  24.48   69.45 1013.86   62.39]\n",
            " [  21.6    62.52 1017.23   67.87]]\n"
          ]
        }
      ]
    },
    {
      "cell_type": "code",
      "source": [
        "print(y)"
      ],
      "metadata": {
        "colab": {
          "base_uri": "https://localhost:8080/"
        },
        "id": "sMPi_C7jT2gC",
        "outputId": "760305d6-60bc-4926-9a41-f15047427ec5"
      },
      "execution_count": 6,
      "outputs": [
        {
          "output_type": "stream",
          "name": "stdout",
          "text": [
            "[463.26 444.37 488.56 ... 429.57 435.74 453.28]\n"
          ]
        }
      ]
    },
    {
      "cell_type": "markdown",
      "source": [
        "SPLITTING THE DATASET INTO TRAINING SET AND TEST *SET*"
      ],
      "metadata": {
        "id": "_MRzd-faUiPP"
      }
    },
    {
      "cell_type": "code",
      "source": [
        "from sklearn.model_selection import train_test_split"
      ],
      "metadata": {
        "id": "Usb4Yt0AUshb"
      },
      "execution_count": 7,
      "outputs": []
    },
    {
      "cell_type": "code",
      "source": [
        "X_train , X_test , y_train , y_test = train_test_split(X, y, test_size = 0.2, random_state=0)"
      ],
      "metadata": {
        "id": "QcGSD8KxUy5q"
      },
      "execution_count": 8,
      "outputs": []
    },
    {
      "cell_type": "markdown",
      "source": [
        "BUILDING THE ANN"
      ],
      "metadata": {
        "id": "xzirN8kOVCgg"
      }
    },
    {
      "cell_type": "markdown",
      "source": [
        "INITIALIZING THE ANN"
      ],
      "metadata": {
        "id": "G9VUf2y_VK3G"
      }
    },
    {
      "cell_type": "code",
      "source": [
        "ann = tf.keras.models.Sequential()"
      ],
      "metadata": {
        "id": "aMF4LNDaVS1C"
      },
      "execution_count": 10,
      "outputs": []
    },
    {
      "cell_type": "markdown",
      "source": [
        "ADDING THE INPUT LAYER AND FIRST HIDDEN LAYER"
      ],
      "metadata": {
        "id": "-ixRNXZ4Wj2l"
      }
    },
    {
      "cell_type": "code",
      "source": [
        "ann.add(tf.keras.layers.Dense(units=6, activation ='relu'))"
      ],
      "metadata": {
        "id": "V7B6gEvYWooO"
      },
      "execution_count": 11,
      "outputs": []
    },
    {
      "cell_type": "markdown",
      "source": [
        "ADDING THE SECOND HIDDEN LAYER"
      ],
      "metadata": {
        "id": "H6y6aKhtXj7p"
      }
    },
    {
      "cell_type": "code",
      "source": [
        "ann.add(tf.keras.layers.Dense(units=6, activation ='relu'))"
      ],
      "metadata": {
        "id": "iot72gLuXmog"
      },
      "execution_count": 12,
      "outputs": []
    },
    {
      "cell_type": "markdown",
      "source": [
        "ADDING THE OUTPUT LAYER"
      ],
      "metadata": {
        "id": "9YNXiIWNX4q_"
      }
    },
    {
      "cell_type": "code",
      "source": [
        "ann.add(tf.keras.layers.Dense(units=1))"
      ],
      "metadata": {
        "id": "K_7v1JbMX6m0"
      },
      "execution_count": 14,
      "outputs": []
    },
    {
      "cell_type": "markdown",
      "source": [
        "TRAINING THE ANN"
      ],
      "metadata": {
        "id": "540TWfVqYtSd"
      }
    },
    {
      "cell_type": "markdown",
      "source": [
        "COMPILING THE ANN"
      ],
      "metadata": {
        "id": "BDw3w8mgYwtR"
      }
    },
    {
      "cell_type": "code",
      "source": [
        "ann.compile(optimizer = 'adam', loss = 'mean_squared_error')"
      ],
      "metadata": {
        "id": "3ASU-mY7YyGT"
      },
      "execution_count": 15,
      "outputs": []
    },
    {
      "cell_type": "markdown",
      "source": [
        "TRAINING THE ANN MODEL ON TRAINING SET"
      ],
      "metadata": {
        "id": "0Hkh0gtxZrri"
      }
    },
    {
      "cell_type": "code",
      "source": [
        "ann.fit(X_train, y_train, epochs = 100, batch_size=32)"
      ],
      "metadata": {
        "colab": {
          "base_uri": "https://localhost:8080/"
        },
        "id": "8ipSn5dsZv4n",
        "outputId": "7633a262-357e-45ba-8b74-57c2951c61de"
      },
      "execution_count": 16,
      "outputs": [
        {
          "output_type": "stream",
          "name": "stdout",
          "text": [
            "Epoch 1/100\n",
            "240/240 [==============================] - 2s 2ms/step - loss: 206574.0625\n",
            "Epoch 2/100\n",
            "240/240 [==============================] - 0s 2ms/step - loss: 206356.1250\n",
            "Epoch 3/100\n",
            "240/240 [==============================] - 0s 2ms/step - loss: 206138.3125\n",
            "Epoch 4/100\n",
            "240/240 [==============================] - 0s 2ms/step - loss: 205920.8750\n",
            "Epoch 5/100\n",
            "240/240 [==============================] - 0s 2ms/step - loss: 205703.3281\n",
            "Epoch 6/100\n",
            "240/240 [==============================] - 0s 2ms/step - loss: 205486.2344\n",
            "Epoch 7/100\n",
            "240/240 [==============================] - 0s 2ms/step - loss: 205268.9375\n",
            "Epoch 8/100\n",
            "240/240 [==============================] - 0s 2ms/step - loss: 205052.1406\n",
            "Epoch 9/100\n",
            "240/240 [==============================] - 0s 2ms/step - loss: 204835.2344\n",
            "Epoch 10/100\n",
            "240/240 [==============================] - 0s 2ms/step - loss: 204618.5156\n",
            "Epoch 11/100\n",
            "240/240 [==============================] - 0s 2ms/step - loss: 204402.0469\n",
            "Epoch 12/100\n",
            "240/240 [==============================] - 0s 2ms/step - loss: 204185.6094\n",
            "Epoch 13/100\n",
            "240/240 [==============================] - 0s 2ms/step - loss: 203969.3750\n",
            "Epoch 14/100\n",
            "240/240 [==============================] - 0s 2ms/step - loss: 203753.1406\n",
            "Epoch 15/100\n",
            "240/240 [==============================] - 0s 2ms/step - loss: 203537.0938\n",
            "Epoch 16/100\n",
            "240/240 [==============================] - 1s 2ms/step - loss: 203321.2656\n",
            "Epoch 17/100\n",
            "240/240 [==============================] - 1s 2ms/step - loss: 203105.4531\n",
            "Epoch 18/100\n",
            "240/240 [==============================] - 1s 2ms/step - loss: 202889.7812\n",
            "Epoch 19/100\n",
            "240/240 [==============================] - 1s 2ms/step - loss: 202674.2656\n",
            "Epoch 20/100\n",
            "240/240 [==============================] - 1s 2ms/step - loss: 202458.8125\n",
            "Epoch 21/100\n",
            "240/240 [==============================] - 0s 2ms/step - loss: 202243.5156\n",
            "Epoch 22/100\n",
            "240/240 [==============================] - 0s 2ms/step - loss: 202028.2969\n",
            "Epoch 23/100\n",
            "240/240 [==============================] - 0s 2ms/step - loss: 201813.1875\n",
            "Epoch 24/100\n",
            "240/240 [==============================] - 0s 2ms/step - loss: 201598.3281\n",
            "Epoch 25/100\n",
            "240/240 [==============================] - 0s 2ms/step - loss: 201383.3906\n",
            "Epoch 26/100\n",
            "240/240 [==============================] - 0s 2ms/step - loss: 201168.6094\n",
            "Epoch 27/100\n",
            "240/240 [==============================] - 0s 2ms/step - loss: 200954.0469\n",
            "Epoch 28/100\n",
            "240/240 [==============================] - 0s 2ms/step - loss: 200739.6094\n",
            "Epoch 29/100\n",
            "240/240 [==============================] - 0s 2ms/step - loss: 200525.2500\n",
            "Epoch 30/100\n",
            "240/240 [==============================] - 0s 2ms/step - loss: 200310.9688\n",
            "Epoch 31/100\n",
            "240/240 [==============================] - 0s 2ms/step - loss: 200096.8594\n",
            "Epoch 32/100\n",
            "240/240 [==============================] - 0s 2ms/step - loss: 199882.8438\n",
            "Epoch 33/100\n",
            "240/240 [==============================] - 0s 2ms/step - loss: 199668.9219\n",
            "Epoch 34/100\n",
            "240/240 [==============================] - 0s 2ms/step - loss: 199455.1562\n",
            "Epoch 35/100\n",
            "240/240 [==============================] - 0s 2ms/step - loss: 199241.4531\n",
            "Epoch 36/100\n",
            "240/240 [==============================] - 0s 2ms/step - loss: 199027.8906\n",
            "Epoch 37/100\n",
            "240/240 [==============================] - 0s 2ms/step - loss: 198814.4219\n",
            "Epoch 38/100\n",
            "240/240 [==============================] - 0s 2ms/step - loss: 198601.0781\n",
            "Epoch 39/100\n",
            "240/240 [==============================] - 0s 2ms/step - loss: 198387.9219\n",
            "Epoch 40/100\n",
            "240/240 [==============================] - 0s 2ms/step - loss: 198174.7812\n",
            "Epoch 41/100\n",
            "240/240 [==============================] - 0s 2ms/step - loss: 197961.7812\n",
            "Epoch 42/100\n",
            "240/240 [==============================] - 1s 2ms/step - loss: 197748.8438\n",
            "Epoch 43/100\n",
            "240/240 [==============================] - 1s 3ms/step - loss: 197536.1562\n",
            "Epoch 44/100\n",
            "240/240 [==============================] - 1s 2ms/step - loss: 197323.6094\n",
            "Epoch 45/100\n",
            "240/240 [==============================] - 1s 2ms/step - loss: 197110.9531\n",
            "Epoch 46/100\n",
            "240/240 [==============================] - 1s 2ms/step - loss: 196898.6406\n",
            "Epoch 47/100\n",
            "240/240 [==============================] - 1s 2ms/step - loss: 196686.2969\n",
            "Epoch 48/100\n",
            "240/240 [==============================] - 1s 2ms/step - loss: 196474.0938\n",
            "Epoch 49/100\n",
            "240/240 [==============================] - 0s 2ms/step - loss: 196262.0625\n",
            "Epoch 50/100\n",
            "240/240 [==============================] - 0s 2ms/step - loss: 196050.0156\n",
            "Epoch 51/100\n",
            "240/240 [==============================] - 0s 2ms/step - loss: 195838.2656\n",
            "Epoch 52/100\n",
            "240/240 [==============================] - 0s 2ms/step - loss: 195626.5312\n",
            "Epoch 53/100\n",
            "240/240 [==============================] - 0s 2ms/step - loss: 195414.9062\n",
            "Epoch 54/100\n",
            "240/240 [==============================] - 0s 2ms/step - loss: 195203.4062\n",
            "Epoch 55/100\n",
            "240/240 [==============================] - 0s 2ms/step - loss: 194992.0000\n",
            "Epoch 56/100\n",
            "240/240 [==============================] - 0s 2ms/step - loss: 194780.7656\n",
            "Epoch 57/100\n",
            "240/240 [==============================] - 0s 2ms/step - loss: 194569.6562\n",
            "Epoch 58/100\n",
            "240/240 [==============================] - 0s 2ms/step - loss: 194358.5625\n",
            "Epoch 59/100\n",
            "240/240 [==============================] - 0s 2ms/step - loss: 194147.7031\n",
            "Epoch 60/100\n",
            "240/240 [==============================] - 0s 2ms/step - loss: 193936.9062\n",
            "Epoch 61/100\n",
            "240/240 [==============================] - 1s 3ms/step - loss: 193726.2500\n",
            "Epoch 62/100\n",
            "240/240 [==============================] - 1s 3ms/step - loss: 193515.6875\n",
            "Epoch 63/100\n",
            "240/240 [==============================] - 1s 3ms/step - loss: 193305.2031\n",
            "Epoch 64/100\n",
            "240/240 [==============================] - 1s 2ms/step - loss: 193094.8125\n",
            "Epoch 65/100\n",
            "240/240 [==============================] - 1s 2ms/step - loss: 192884.5781\n",
            "Epoch 66/100\n",
            "240/240 [==============================] - 1s 3ms/step - loss: 192674.4531\n",
            "Epoch 67/100\n",
            "240/240 [==============================] - 1s 2ms/step - loss: 192464.5469\n",
            "Epoch 68/100\n",
            "240/240 [==============================] - 1s 3ms/step - loss: 192254.5938\n",
            "Epoch 69/100\n",
            "240/240 [==============================] - 1s 3ms/step - loss: 192044.8281\n",
            "Epoch 70/100\n",
            "240/240 [==============================] - 1s 3ms/step - loss: 191835.2500\n",
            "Epoch 71/100\n",
            "240/240 [==============================] - 1s 4ms/step - loss: 191625.6094\n",
            "Epoch 72/100\n",
            "240/240 [==============================] - 1s 3ms/step - loss: 191416.1875\n",
            "Epoch 73/100\n",
            "240/240 [==============================] - 1s 3ms/step - loss: 191206.9688\n",
            "Epoch 74/100\n",
            "240/240 [==============================] - 0s 2ms/step - loss: 190997.7188\n",
            "Epoch 75/100\n",
            "240/240 [==============================] - 1s 2ms/step - loss: 190788.5938\n",
            "Epoch 76/100\n",
            "240/240 [==============================] - 0s 2ms/step - loss: 190579.7188\n",
            "Epoch 77/100\n",
            "240/240 [==============================] - 0s 2ms/step - loss: 190370.9062\n",
            "Epoch 78/100\n",
            "240/240 [==============================] - 0s 2ms/step - loss: 190162.1406\n",
            "Epoch 79/100\n",
            "240/240 [==============================] - 0s 2ms/step - loss: 189953.5156\n",
            "Epoch 80/100\n",
            "240/240 [==============================] - 0s 2ms/step - loss: 189744.9219\n",
            "Epoch 81/100\n",
            "240/240 [==============================] - 0s 2ms/step - loss: 189536.6406\n",
            "Epoch 82/100\n",
            "240/240 [==============================] - 0s 2ms/step - loss: 189328.3750\n",
            "Epoch 83/100\n",
            "240/240 [==============================] - 0s 2ms/step - loss: 189120.1094\n",
            "Epoch 84/100\n",
            "240/240 [==============================] - 0s 2ms/step - loss: 188912.1875\n",
            "Epoch 85/100\n",
            "240/240 [==============================] - 0s 2ms/step - loss: 188704.2500\n",
            "Epoch 86/100\n",
            "240/240 [==============================] - 0s 2ms/step - loss: 188496.2500\n",
            "Epoch 87/100\n",
            "240/240 [==============================] - 1s 3ms/step - loss: 188288.6094\n",
            "Epoch 88/100\n",
            "240/240 [==============================] - 1s 4ms/step - loss: 188080.9688\n",
            "Epoch 89/100\n",
            "240/240 [==============================] - 1s 3ms/step - loss: 187873.6406\n",
            "Epoch 90/100\n",
            "240/240 [==============================] - 1s 3ms/step - loss: 187666.1719\n",
            "Epoch 91/100\n",
            "240/240 [==============================] - 1s 3ms/step - loss: 187459.0469\n",
            "Epoch 92/100\n",
            "240/240 [==============================] - 1s 4ms/step - loss: 187251.8750\n",
            "Epoch 93/100\n",
            "240/240 [==============================] - 1s 4ms/step - loss: 187044.8438\n",
            "Epoch 94/100\n",
            "240/240 [==============================] - 1s 4ms/step - loss: 186837.9688\n",
            "Epoch 95/100\n",
            "240/240 [==============================] - 1s 4ms/step - loss: 186631.1875\n",
            "Epoch 96/100\n",
            "240/240 [==============================] - 1s 3ms/step - loss: 186424.5156\n",
            "Epoch 97/100\n",
            "240/240 [==============================] - 1s 4ms/step - loss: 186218.0781\n",
            "Epoch 98/100\n",
            "240/240 [==============================] - 1s 2ms/step - loss: 186011.5781\n",
            "Epoch 99/100\n",
            "240/240 [==============================] - 1s 2ms/step - loss: 185805.2656\n",
            "Epoch 100/100\n",
            "240/240 [==============================] - 1s 4ms/step - loss: 185599.0625\n"
          ]
        },
        {
          "output_type": "execute_result",
          "data": {
            "text/plain": [
              "<keras.callbacks.History at 0x7d10b3e71de0>"
            ]
          },
          "metadata": {},
          "execution_count": 16
        }
      ]
    },
    {
      "cell_type": "markdown",
      "source": [
        "PREDICTING THE RESULT"
      ],
      "metadata": {
        "id": "j5NKaiAzbUni"
      }
    },
    {
      "cell_type": "code",
      "source": [
        "y_pred = ann.predict(X_test)\n",
        "np.set_printoptions(precision =2)\n",
        "print(np.concatenate((y_pred.reshape(len(y_pred),1), y_test.reshape(len(y_test),1)), 1))"
      ],
      "metadata": {
        "colab": {
          "base_uri": "https://localhost:8080/"
        },
        "id": "cS5MsUSubW30",
        "outputId": "7508bec6-90ec-4426-efb8-750e917a7bd6"
      },
      "execution_count": 17,
      "outputs": [
        {
          "output_type": "stream",
          "name": "stdout",
          "text": [
            "60/60 [==============================] - 0s 1ms/step\n",
            "[[ 23.95 431.23]\n",
            " [ 23.95 460.01]\n",
            " [ 23.95 461.14]\n",
            " ...\n",
            " [ 23.95 473.26]\n",
            " [ 23.95 438.  ]\n",
            " [ 23.95 463.28]]\n"
          ]
        }
      ]
    }
  ]
}